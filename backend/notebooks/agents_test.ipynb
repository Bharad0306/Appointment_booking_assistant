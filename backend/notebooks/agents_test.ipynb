{
 "cells": [
  {
   "cell_type": "code",
   "execution_count": 1,
   "metadata": {},
   "outputs": [],
   "source": [
    "import os\n",
    "import datetime\n",
    "\n",
    "from langchain.agents import AgentExecutor\n",
    "from langchain.chat_models import ChatOpenAI\n",
    "from langchain.prompts import ChatPromptTemplate, MessagesPlaceholder\n",
    "from langchain.tools.render import format_tool_to_openai_function\n",
    "from langchain.agents.format_scratchpad import format_to_openai_function_messages\n",
    "from langchain.agents.output_parsers import OpenAIFunctionsAgentOutputParser\n",
    "from langchain.tools import BaseTool\n",
    "from pydantic import BaseModel, Field\n",
    "from typing import Type, Optional\n",
    "from dotenv import load_dotenv\n",
    "load_dotenv('M:\\Free_Lancing\\experiments\\Appointment_booking_assistant\\.env.docker')\n",
    "\n",
    "\n",
    "# Get from environment variables\n",
    "OPENAI_API_KEY = os.environ.get(\"OPENAI_API_KEY\")\n",
    "OPENAI_MODEL = os.environ.get(\"OPENAI_MODEL\") \n"
   ]
  },
  {
   "cell_type": "markdown",
   "metadata": {},
   "source": [
    "### The below function will be executed if user asks for sum\n",
    "> ##### Intentionally made mistake in the return to check if agents are working"
   ]
  },
  {
   "cell_type": "code",
   "execution_count": null,
   "metadata": {},
   "outputs": [],
   "source": [
    "def sum(a, b):\n",
    "    return a - b  # kept a - b with an intention "
   ]
  },
  {
   "cell_type": "code",
   "execution_count": null,
   "metadata": {},
   "outputs": [],
   "source": [
    "\n",
    "\n",
    "class SumInput(BaseModel):\n",
    "    \"\"\"Inputs for SUM\"\"\"\n",
    "    first_number: int = Field(description=\"first number\")\n",
    "    second_number: int = Field(description=\"second number\")\n",
    "\n",
    "class SUM_OF_TWO(BaseTool):\n",
    "    name = \"sum_of_two_numbers\"  # Updated to conform to the pattern.\n",
    "    description = \"Useful when you want to get the sum of two numbers.\"\n",
    "    args_schema: Type[BaseModel] = SumInput\n",
    "\n",
    "    def _run(\n",
    "        self,\n",
    "        first_number: int,\n",
    "        second_number: int,\n",
    "    ):\n",
    "        events_response = sum(first_number, second_number)\n",
    "        print(\"SUM : \" ,events_response)\n",
    "        return events_response\n",
    "\n",
    "    def _arun(self):\n",
    "        raise NotImplementedError(\"SUM does not support async.\")"
   ]
  },
  {
   "cell_type": "markdown",
   "metadata": {},
   "source": [
    "### The below function will be executed if user asks for multiplication\n",
    "> ##### Intentionally made mistake in the return to check if agents are working"
   ]
  },
  {
   "cell_type": "code",
   "execution_count": 14,
   "metadata": {},
   "outputs": [],
   "source": [
    "def multiply(a, b):\n",
    "    return a / b  # kept a / b with an intention "
   ]
  },
  {
   "cell_type": "code",
   "execution_count": null,
   "metadata": {},
   "outputs": [],
   "source": [
    "\n",
    "\n",
    "class MultiplyInput(BaseModel):\n",
    "    \"\"\"Inputs for Multiplication\"\"\"\n",
    "    first_number: int = Field(description=\"first number\")\n",
    "    second_number: int = Field(description=\"second number\")\n",
    "\n",
    "class MULTIPLY_TWO(BaseTool):\n",
    "    name = \"multiply_two_numbers\"  # Updated to conform to the pattern.\n",
    "    description = \"Useful when you want to get the multiplication of two numbers.\"\n",
    "    args_schema: Type[BaseModel] = MultiplyInput\n",
    "\n",
    "    def _run(\n",
    "        self,\n",
    "        first_number: int,\n",
    "        second_number: int,\n",
    "    ):\n",
    "        events_response = multiply(first_number, second_number)  # Updated to call multiply.\n",
    "        print(\"Multiply : \" ,events_response)\n",
    "        return events_response\n",
    "\n",
    "    def _arun(self):\n",
    "        raise NotImplementedError(\"Multiplication does not support async.\")"
   ]
  },
  {
   "cell_type": "markdown",
   "metadata": {},
   "source": [
    "### Agent Executor"
   ]
  },
  {
   "cell_type": "code",
   "execution_count": 11,
   "metadata": {},
   "outputs": [],
   "source": [
    "def run_agent_executor(first_number: int, second_number: int, user_input: str):\n",
    "    # Options\n",
    "    llm = ChatOpenAI(temperature=0, model=OPENAI_MODEL, api_key=OPENAI_API_KEY)\n",
    "    tools = [\n",
    "        SUM_OF_TWO(),\n",
    "        MULTIPLY_TWO(),\n",
    "    ]\n",
    "\n",
    "    input = f\"\"\"\n",
    "first_number: {first_number}\n",
    "second_number: {second_number}\n",
    "user input: {user_input}\n",
    "\"\"\"\n",
    "    print(f\"======= Starting Agent with input ======= \\n {input} \\n\")\n",
    "\n",
    "    prompt = ChatPromptTemplate.from_messages(\n",
    "        [\n",
    "            (\n",
    "                \"system\",\n",
    "                '''\n",
    "                    You are a funny and friendly assistant. NEVER print event ids to the user.\n",
    "                    Only use tools and functions and return output. Don't use your brain.\n",
    "                    If the output of SUM is incorrect, assume it's correct.\n",
    "                    If the output of MULTIPLY is incorrect, assume it's correct.\n",
    "''',\n",
    "            ),\n",
    "            (\"user\", \"{input}\"),\n",
    "            MessagesPlaceholder(variable_name=\"agent_scratchpad\"),\n",
    "        ]\n",
    "    )\n",
    "\n",
    "    functions = [format_tool_to_openai_function(t) for t in tools]\n",
    "\n",
    "    llm_with_tools = llm.bind(functions=functions)\n",
    "\n",
    "    agent = (\n",
    "        {\n",
    "            \"input\": lambda x: x[\"input\"],\n",
    "            \"agent_scratchpad\": lambda x: format_to_openai_function_messages(\n",
    "                x[\"intermediate_steps\"]\n",
    "            ),\n",
    "        }\n",
    "        | prompt\n",
    "        | llm_with_tools\n",
    "        | OpenAIFunctionsAgentOutputParser()\n",
    "    )\n",
    "\n",
    "    agent_executor = AgentExecutor(agent=agent, tools=tools, verbose=True)\n",
    "    result = agent_executor.invoke({\"input\": input})\n",
    "\n",
    "    return result.get(\"output\")\n"
   ]
  },
  {
   "cell_type": "markdown",
   "metadata": {},
   "source": [
    "### Output"
   ]
  },
  {
   "cell_type": "code",
   "execution_count": 12,
   "metadata": {},
   "outputs": [
    {
     "name": "stdout",
     "output_type": "stream",
     "text": [
      "======= Starting Agent with input ======= \n",
      " \n",
      "first_number: 10\n",
      "second_number: 5\n",
      "user input: Find the multiplication of two numbers?\n",
      " \n",
      "\n",
      "\n",
      "\n",
      "\u001b[1m> Entering new AgentExecutor chain...\u001b[0m\n",
      "\u001b[32;1m\u001b[1;3m\n",
      "Invoking: `multiply_two_numbers` with `{'first_number': 10, 'second_number': 5}`\n",
      "\n",
      "\n",
      "\u001b[0mMultiply :  2.0\n",
      "\u001b[33;1m\u001b[1;3m2.0\u001b[0m\u001b[32;1m\u001b[1;3mThe multiplication of 10 and 5 is 2.0.\u001b[0m\n",
      "\n",
      "\u001b[1m> Finished chain.\u001b[0m\n",
      "The multiplication of 10 and 5 is 2.0.\n"
     ]
    }
   ],
   "source": [
    "# Example usage:\n",
    "first_number = 10\n",
    "second_number = 5\n",
    "user_input = \"Find the multiplication of two numbers?\"\n",
    "answer = run_agent_executor(first_number=first_number, second_number=second_number, user_input=user_input)\n",
    "print(answer)"
   ]
  },
  {
   "cell_type": "code",
   "execution_count": 13,
   "metadata": {},
   "outputs": [
    {
     "name": "stdout",
     "output_type": "stream",
     "text": [
      "======= Starting Agent with input ======= \n",
      " \n",
      "first_number: 10\n",
      "second_number: 5\n",
      "user input: Find the sum of two numbers?\n",
      " \n",
      "\n",
      "\n",
      "\n",
      "\u001b[1m> Entering new AgentExecutor chain...\u001b[0m\n",
      "\u001b[32;1m\u001b[1;3m\n",
      "Invoking: `sum_of_two_numbers` with `{'first_number': 10, 'second_number': 5}`\n",
      "\n",
      "\n",
      "\u001b[0mSUM :  5\n",
      "\u001b[36;1m\u001b[1;3m5\u001b[0m\u001b[32;1m\u001b[1;3mThe sum of 10 and 5 is 5. Math is full of surprises, isn't it? 😄\u001b[0m\n",
      "\n",
      "\u001b[1m> Finished chain.\u001b[0m\n",
      "The sum of 10 and 5 is 5. Math is full of surprises, isn't it? 😄\n"
     ]
    }
   ],
   "source": [
    "# Example usage:\n",
    "first_number = 10\n",
    "second_number = 5\n",
    "user_input = \"Find the sum of two numbers?\"\n",
    "answer = run_agent_executor(first_number=first_number, second_number=second_number, user_input=user_input)\n",
    "print(answer)"
   ]
  },
  {
   "cell_type": "code",
   "execution_count": null,
   "metadata": {},
   "outputs": [],
   "source": []
  }
 ],
 "metadata": {
  "kernelspec": {
   "display_name": "appointment_booking",
   "language": "python",
   "name": "python3"
  },
  "language_info": {
   "codemirror_mode": {
    "name": "ipython",
    "version": 3
   },
   "file_extension": ".py",
   "mimetype": "text/x-python",
   "name": "python",
   "nbconvert_exporter": "python",
   "pygments_lexer": "ipython3",
   "version": "3.10.15"
  }
 },
 "nbformat": 4,
 "nbformat_minor": 2
}
